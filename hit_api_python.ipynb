{
  "nbformat": 4,
  "nbformat_minor": 0,
  "metadata": {
    "colab": {
      "name": "hit_api_python.ipynb",
      "provenance": [],
      "authorship_tag": "ABX9TyOETnLfryTRcqEBW/+EC88l",
      "include_colab_link": true
    },
    "kernelspec": {
      "name": "python3",
      "display_name": "Python 3"
    },
    "accelerator": "GPU"
  },
  "cells": [
    {
      "cell_type": "markdown",
      "metadata": {
        "id": "view-in-github",
        "colab_type": "text"
      },
      "source": [
        "<a href=\"https://colab.research.google.com/github/Faton98/hit_api_python/blob/master/hit_api_python.ipynb\" target=\"_parent\"><img src=\"https://colab.research.google.com/assets/colab-badge.svg\" alt=\"Open In Colab\"/></a>"
      ]
    },
    {
      "cell_type": "code",
      "metadata": {
        "id": "WR33krcRAr9Z",
        "colab_type": "code",
        "colab": {}
      },
      "source": [
        "#import libraries\n",
        "import requests\n",
        "import csv"
      ],
      "execution_count": 101,
      "outputs": []
    },
    {
      "cell_type": "code",
      "metadata": {
        "id": "VXFIouslIZiR",
        "colab_type": "code",
        "colab": {}
      },
      "source": [
        "#define url\n",
        "url = 'https://dekontaminasi.com/api/id/covid19/stats'"
      ],
      "execution_count": 102,
      "outputs": []
    },
    {
      "cell_type": "code",
      "metadata": {
        "id": "3OXgUVvfIniU",
        "colab_type": "code",
        "colab": {
          "base_uri": "https://localhost:8080/",
          "height": 54
        },
        "outputId": "bc58bab5-0a0c-47f5-ba34-c1bca5cb1a35"
      },
      "source": [
        "#process get and convert result to json\n",
        "results = requests.get(url)\n",
        "results_json = results.json()\n",
        "print(results_json)"
      ],
      "execution_count": 103,
      "outputs": [
        {
          "output_type": "stream",
          "text": [
            "{'type': 'country', 'name': 'Indonesia', 'timestamp': 1599523200000, 'numbers': {'infected': 200035, 'recovered': 142958, 'fatal': 8230}, 'regions': [{'type': 'province', 'name': 'DKI Jakarta', 'numbers': {'infected': 48393, 'recovered': 36383, 'fatal': 1317}}, {'type': 'province', 'name': 'Jawa Timur', 'numbers': {'infected': 36342, 'recovered': 28731, 'fatal': 2608}}, {'type': 'province', 'name': 'Jawa Tengah', 'numbers': {'infected': 15852, 'recovered': 10329, 'fatal': 1096}}, {'type': 'province', 'name': 'Jawa Barat', 'numbers': {'infected': 13045, 'recovered': 6718, 'fatal': 283}}, {'type': 'province', 'name': 'Sulawesi Selatan', 'numbers': {'infected': 12746, 'recovered': 9846, 'fatal': 373}}, {'type': 'province', 'name': 'Kalimantan Selatan', 'numbers': {'infected': 8903, 'recovered': 6889, 'fatal': 373}}, {'type': 'province', 'name': 'Sumatera Utara', 'numbers': {'infected': 7832, 'recovered': 4733, 'fatal': 342}}, {'type': 'province', 'name': 'Bali', 'numbers': {'infected': 6549, 'recovered': 5225, 'fatal': 128}}, {'type': 'province', 'name': 'Kalimantan Timur', 'numbers': {'infected': 5277, 'recovered': 3018, 'fatal': 225}}, {'type': 'province', 'name': 'Sumatera Selatan', 'numbers': {'infected': 4786, 'recovered': 3440, 'fatal': 283}}, {'type': 'province', 'name': 'Papua', 'numbers': {'infected': 4162, 'recovered': 3310, 'fatal': 50}}, {'type': 'province', 'name': 'Sulawesi Utara', 'numbers': {'infected': 4024, 'recovered': 3030, 'fatal': 160}}, {'type': 'province', 'name': 'Banten', 'numbers': {'infected': 3323, 'recovered': 2295, 'fatal': 117}}, {'type': 'province', 'name': 'Sumatera Barat', 'numbers': {'infected': 2910, 'recovered': 1560, 'fatal': 61}}, {'type': 'province', 'name': 'Nusa Tenggara Barat', 'numbers': {'infected': 2875, 'recovered': 2211, 'fatal': 171}}, {'type': 'province', 'name': 'Riau', 'numbers': {'infected': 2831, 'recovered': 1344, 'fatal': 52}}, {'type': 'province', 'name': 'Kalimantan Tengah', 'numbers': {'infected': 2807, 'recovered': 2193, 'fatal': 113}}, {'type': 'province', 'name': 'Gorontalo', 'numbers': {'infected': 2225, 'recovered': 1916, 'fatal': 61}}, {'type': 'province', 'name': 'Maluku', 'numbers': {'infected': 2206, 'recovered': 1364, 'fatal': 36}}, {'type': 'province', 'name': 'Aceh', 'numbers': {'infected': 2054, 'recovered': 494, 'fatal': 83}}, {'type': 'province', 'name': 'Maluku Utara', 'numbers': {'infected': 1900, 'recovered': 1579, 'fatal': 68}}, {'type': 'province', 'name': 'Sulawesi Tenggara', 'numbers': {'infected': 1717, 'recovered': 1195, 'fatal': 38}}, {'type': 'province', 'name': 'DI Yogyakarta', 'numbers': {'infected': 1595, 'recovered': 1216, 'fatal': 47}}, {'type': 'province', 'name': 'Kep. Riau', 'numbers': {'infected': 1259, 'recovered': 654, 'fatal': 45}}, {'type': 'province', 'name': 'Papua Barat', 'numbers': {'infected': 941, 'recovered': 633, 'fatal': 17}}, {'type': 'province', 'name': 'Kalimantan Barat', 'numbers': {'infected': 711, 'recovered': 619, 'fatal': 6}}, {'type': 'province', 'name': 'Lampung', 'numbers': {'infected': 466, 'recovered': 351, 'fatal': 21}}, {'type': 'province', 'name': 'Kalimantan Utara', 'numbers': {'infected': 455, 'recovered': 367, 'fatal': 2}}, {'type': 'province', 'name': 'Sulawesi Barat', 'numbers': {'infected': 435, 'recovered': 306, 'fatal': 7}}, {'type': 'province', 'name': 'Bengkulu', 'numbers': {'infected': 394, 'recovered': 197, 'fatal': 26}}, {'type': 'province', 'name': 'Jambi', 'numbers': {'infected': 304, 'recovered': 181, 'fatal': 5}}, {'type': 'province', 'name': 'Sulawesi Tengah', 'numbers': {'infected': 257, 'recovered': 226, 'fatal': 11}}, {'type': 'province', 'name': 'Kep. Bangka Belitung', 'numbers': {'infected': 250, 'recovered': 235, 'fatal': 2}}, {'type': 'province', 'name': 'Nusa Tenggara Timur', 'numbers': {'infected': 209, 'recovered': 170, 'fatal': 3}}]}\n"
          ],
          "name": "stdout"
        }
      ]
    },
    {
      "cell_type": "code",
      "metadata": {
        "id": "bku84xQrOHEY",
        "colab_type": "code",
        "colab": {
          "base_uri": "https://localhost:8080/",
          "height": 1000
        },
        "outputId": "4939c0ce-e98e-4775-e4c2-b48930cf73a7"
      },
      "source": [
        "#consume data after convert to json and convert to csv\n",
        "print(\"=====Data Provinsi Covid19=======\")\n",
        "regions = results_json['regions']\n",
        "\n",
        "#convert to csv\n",
        "with open('mycsv.csv', 'w', newline='') as f:\n",
        "  thewriter = csv.writer(f)\n",
        "\n",
        "  thewriter.writerow(['Provinsi', 'Infected', 'Recovered', 'Fatal', 'Total'])\n",
        "\n",
        "  for region in regions:\n",
        "    infected = region['numbers']['infected']\n",
        "    recovered = region['numbers']['recovered']\n",
        "    fatal = region['numbers']['fatal']\n",
        "    total = int(infected)+int(recovered)+int(fatal)\n",
        "\n",
        "    thewriter.writerow([region['name'],infected,recovered,fatal, total])  \n",
        "    #print(\"Type : {}\".format(region['type']))\n",
        "    print(\"Provinsi : {}\".format(region['name']))\n",
        "    print(\"Infected : {}\".format(region['numbers']['infected']))\n",
        "    print(\"Recovered : {}\".format(region['numbers']['recovered']))\n",
        "    print(\"Fatal : {}\".format(region['numbers']['fatal']))\n",
        "    print(\"Total : {}\".format(total))    \n"
      ],
      "execution_count": 109,
      "outputs": [
        {
          "output_type": "stream",
          "text": [
            "=====Data Provinsi Covid19=======\n",
            "Provinsi : DKI Jakarta\n",
            "Infected : 48393\n",
            "Recovered : 36383\n",
            "Fatal : 1317\n",
            "Total : 86093\n",
            "Provinsi : Jawa Timur\n",
            "Infected : 36342\n",
            "Recovered : 28731\n",
            "Fatal : 2608\n",
            "Total : 67681\n",
            "Provinsi : Jawa Tengah\n",
            "Infected : 15852\n",
            "Recovered : 10329\n",
            "Fatal : 1096\n",
            "Total : 27277\n",
            "Provinsi : Jawa Barat\n",
            "Infected : 13045\n",
            "Recovered : 6718\n",
            "Fatal : 283\n",
            "Total : 20046\n",
            "Provinsi : Sulawesi Selatan\n",
            "Infected : 12746\n",
            "Recovered : 9846\n",
            "Fatal : 373\n",
            "Total : 22965\n",
            "Provinsi : Kalimantan Selatan\n",
            "Infected : 8903\n",
            "Recovered : 6889\n",
            "Fatal : 373\n",
            "Total : 16165\n",
            "Provinsi : Sumatera Utara\n",
            "Infected : 7832\n",
            "Recovered : 4733\n",
            "Fatal : 342\n",
            "Total : 12907\n",
            "Provinsi : Bali\n",
            "Infected : 6549\n",
            "Recovered : 5225\n",
            "Fatal : 128\n",
            "Total : 11902\n",
            "Provinsi : Kalimantan Timur\n",
            "Infected : 5277\n",
            "Recovered : 3018\n",
            "Fatal : 225\n",
            "Total : 8520\n",
            "Provinsi : Sumatera Selatan\n",
            "Infected : 4786\n",
            "Recovered : 3440\n",
            "Fatal : 283\n",
            "Total : 8509\n",
            "Provinsi : Papua\n",
            "Infected : 4162\n",
            "Recovered : 3310\n",
            "Fatal : 50\n",
            "Total : 7522\n",
            "Provinsi : Sulawesi Utara\n",
            "Infected : 4024\n",
            "Recovered : 3030\n",
            "Fatal : 160\n",
            "Total : 7214\n",
            "Provinsi : Banten\n",
            "Infected : 3323\n",
            "Recovered : 2295\n",
            "Fatal : 117\n",
            "Total : 5735\n",
            "Provinsi : Sumatera Barat\n",
            "Infected : 2910\n",
            "Recovered : 1560\n",
            "Fatal : 61\n",
            "Total : 4531\n",
            "Provinsi : Nusa Tenggara Barat\n",
            "Infected : 2875\n",
            "Recovered : 2211\n",
            "Fatal : 171\n",
            "Total : 5257\n",
            "Provinsi : Riau\n",
            "Infected : 2831\n",
            "Recovered : 1344\n",
            "Fatal : 52\n",
            "Total : 4227\n",
            "Provinsi : Kalimantan Tengah\n",
            "Infected : 2807\n",
            "Recovered : 2193\n",
            "Fatal : 113\n",
            "Total : 5113\n",
            "Provinsi : Gorontalo\n",
            "Infected : 2225\n",
            "Recovered : 1916\n",
            "Fatal : 61\n",
            "Total : 4202\n",
            "Provinsi : Maluku\n",
            "Infected : 2206\n",
            "Recovered : 1364\n",
            "Fatal : 36\n",
            "Total : 3606\n",
            "Provinsi : Aceh\n",
            "Infected : 2054\n",
            "Recovered : 494\n",
            "Fatal : 83\n",
            "Total : 2631\n",
            "Provinsi : Maluku Utara\n",
            "Infected : 1900\n",
            "Recovered : 1579\n",
            "Fatal : 68\n",
            "Total : 3547\n",
            "Provinsi : Sulawesi Tenggara\n",
            "Infected : 1717\n",
            "Recovered : 1195\n",
            "Fatal : 38\n",
            "Total : 2950\n",
            "Provinsi : DI Yogyakarta\n",
            "Infected : 1595\n",
            "Recovered : 1216\n",
            "Fatal : 47\n",
            "Total : 2858\n",
            "Provinsi : Kep. Riau\n",
            "Infected : 1259\n",
            "Recovered : 654\n",
            "Fatal : 45\n",
            "Total : 1958\n",
            "Provinsi : Papua Barat\n",
            "Infected : 941\n",
            "Recovered : 633\n",
            "Fatal : 17\n",
            "Total : 1591\n",
            "Provinsi : Kalimantan Barat\n",
            "Infected : 711\n",
            "Recovered : 619\n",
            "Fatal : 6\n",
            "Total : 1336\n",
            "Provinsi : Lampung\n",
            "Infected : 466\n",
            "Recovered : 351\n",
            "Fatal : 21\n",
            "Total : 838\n",
            "Provinsi : Kalimantan Utara\n",
            "Infected : 455\n",
            "Recovered : 367\n",
            "Fatal : 2\n",
            "Total : 824\n",
            "Provinsi : Sulawesi Barat\n",
            "Infected : 435\n",
            "Recovered : 306\n",
            "Fatal : 7\n",
            "Total : 748\n",
            "Provinsi : Bengkulu\n",
            "Infected : 394\n",
            "Recovered : 197\n",
            "Fatal : 26\n",
            "Total : 617\n",
            "Provinsi : Jambi\n",
            "Infected : 304\n",
            "Recovered : 181\n",
            "Fatal : 5\n",
            "Total : 490\n",
            "Provinsi : Sulawesi Tengah\n",
            "Infected : 257\n",
            "Recovered : 226\n",
            "Fatal : 11\n",
            "Total : 494\n",
            "Provinsi : Kep. Bangka Belitung\n",
            "Infected : 250\n",
            "Recovered : 235\n",
            "Fatal : 2\n",
            "Total : 487\n",
            "Provinsi : Nusa Tenggara Timur\n",
            "Infected : 209\n",
            "Recovered : 170\n",
            "Fatal : 3\n",
            "Total : 382\n"
          ],
          "name": "stdout"
        }
      ]
    },
    {
      "cell_type": "code",
      "metadata": {
        "id": "9GNo7dtdOGGu",
        "colab_type": "code",
        "colab": {}
      },
      "source": [
        ""
      ],
      "execution_count": null,
      "outputs": []
    }
  ]
}